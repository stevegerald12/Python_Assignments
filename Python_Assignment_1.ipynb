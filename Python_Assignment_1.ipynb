{
 "cells": [
  {
   "cell_type": "markdown",
   "id": "dcb11403-b17f-43b8-a6bf-fb53deeb9ff0",
   "metadata": {},
   "source": [
    "#### Steve Gerald"
   ]
  },
  {
   "cell_type": "code",
   "execution_count": null,
   "id": "4ef90864-811c-4f90-8b60-74166de639ea",
   "metadata": {},
   "outputs": [],
   "source": [
    "                                                               Assignment 1"
   ]
  },
  {
   "cell_type": "markdown",
   "id": "bd319dbd-f612-4d50-8217-643ee0f01f48",
   "metadata": {
    "jp-MarkdownHeadingCollapsed": true
   },
   "source": [
    "### 1) what is Python?\n",
    "Python is the high level, adapted programming language that is widely used for various purposes such as\n",
    "A) Web development\n",
    "B) Data analysis and science\n",
    "C) Artificial intelligence and machine learning\n",
    "D) Automation\n",
    "E) Education\n",
    "\n",
    "Python is known for it's simplicity, readability and ease of use,making it an ideal language for beginners and experts alike. it's syntax is clean and \n",
    "concise allowing developers to focus on the logic of their code without getting bogged down in complex syntax. \n",
    "\n"
   ]
  },
  {
   "cell_type": "markdown",
   "id": "c1153197-9751-4d0a-b33f-7601e03fdd0a",
   "metadata": {},
   "source": [
    "### 2) What does the print() function do in Python?\n",
    "The Print () function in python is used to output text, variables or expressions to the screen or a file. it displays the specified message or value on \n",
    "the console or terminal. It prints the specified text or string to the screen. It prints the value of a variable sucha s a number, string or list.\n",
    "Prints the result of an expression like a quantitative analyses or reasoning operation. automatically adds a newline charater at the end of the output, \n",
    "moving the cursor to the next line.\n",
    "\n",
    "Print(\"Hello World\") outputs the string \"Hello world!\" print(5+5).\n",
    "\n"
   ]
  },
  {
   "cell_type": "markdown",
   "id": "f1c2471b-8774-45f8-a99e-4e8e6bbc609b",
   "metadata": {},
   "source": [
    "### 3) What is the purpose of comments in python programming language?\n",
    "\n",
    "Comment aid others and understands what your code does, how it works and why you made certain decision. comments can serve as documentation, making it \n",
    "easier for others to use your code. Comments can help you understand areas of code that need attention or debugging. Comments can be used temporarily \n",
    "disabled lines of code without deleting. Comments can be used to add notes or reminders to yourself. In python comments start with the # sign and\n",
    "everything follows it in the same line."
   ]
  },
  {
   "cell_type": "markdown",
   "id": "a816ea2a-81a1-4a79-bd93-43192a479cb2",
   "metadata": {},
   "source": [
    "### 4) Provide an example of a syntax error &amp; semantic error in Python and explain why it is an error?\n",
    "\n",
    "Syntax error:\n",
    "\n",
    "File \",<stdin>\", line 1\n",
    "    syntax error: unexpected EOF while parsing.\n",
    "\n",
    "this is the syntax error because the code is missing the close) at the end of the print statement. Python expects the close para to complete the \n",
    "statement. but it finds the of the file in a solution.\n",
    "\n",
    "x = 5\n",
    "y = \"hello\"\n",
    "print(x+y)\n",
    "this is the semantic issue because the code gains to add an integer x and a string y using the + symbol which is not allowing in Python. the + operator \n",
    "is overloaded for strings to mean concatenation, but it cannot be used to add integers and strings together."
   ]
  },
  {
   "cell_type": "markdown",
   "id": "0ffff9b2-ab8c-473c-a972-8e74a6137ef2",
   "metadata": {},
   "source": [
    "### 5) What does case sensitivity mean in Python?\n",
    "\n",
    "In python case sensivity refers to langauage establises between lowercase and uppercase in two variables names, functions name etc.\n",
    "-x and +x are two variables. Print() and print() are two different function. if you define a fucntion or variable with a certain name.\n",
    "\n",
    "x = 5\n",
    "Print(x) #Raises name error because x is not defined.\n",
    "\n",
    "to avoid error, it is essential to be consistent in your use of case in Python. The conventional style is to use lowercase letters with underscores for\n",
    "variable and function name (e.g.,.my_variable) and reserve uppercase letters for class names and constants."
   ]
  },
  {
   "cell_type": "markdown",
   "id": "20d68ba2-8764-4ab2-b2df-97932af30a94",
   "metadata": {},
   "source": [
    "### 6)Provide an example to illustrate how case sensitivity affects variable names in Python.\n",
    "\n",
    "knowing two variable with different case\n",
    "X = 5\n",
    "X = 10\n",
    "\n",
    "* Print the valuyes of x and X \n",
    "print (\"x =\",x) # Output: x = 5\n",
    "print(\"X=\",X) # Output: X = 10\n",
    "Print the value of x using the wrong case\n",
    "print(\"X=\",x) # Raises Name Error:\n",
    "name \"X\" is not defined\n",
    "Assign a new value to x using the wrong case\n",
    "X = 20\n",
    "print(\"x=\",x) # Output: x = 5 (no change)\n",
    "* Print the value of X again print(\"X=\",X) # Output: X = 20 \n",
    "We define two variable, x and X, with different values.\n",
    "We print the values of x using the wrong case (X), which actually changes the value of X, not x.\n",
    "We print the values of x and X again to demonstarate the difference."
   ]
  },
  {
   "cell_type": "markdown",
   "id": "d1ad2a7e-cf94-4cba-b18f-24e1bb7ee56f",
   "metadata": {},
   "source": [
    "### 7) What is the purpose of indentation in Python?\n",
    "\n",
    "purpose of indentation iun Python are\n",
    "\n",
    "* Indentation indicates the beginning and end of a block od codes, such as\n",
    "-Conditional statement(if/else)\n",
    "-Loops (for/while)\n",
    "-Functions\n",
    "-Classes\n",
    "* Indentation shows that a set of statements belong together, making the code more readable and organized in a easy way.\n",
    "* Indetation defines the scope of variables, functions and classes, helping Python understand where they are accessible.\n",
    "\n",
    "Python uses indentation instead of brackets {} or keywords (Begin/End) to denote block-level structure, making the code look more concise  and simple to\n",
    "read.\n",
    "\n",
    "If True: \n",
    "print(\"Indentation defines the block\") \n",
    "    print(\"Multiple statements in the block\")\n",
    "\n",
    "In this example, the indentation (4 spaces) indicates that the two prints statements are part of the if block."
   ]
  },
  {
   "cell_type": "markdown",
   "id": "de58374b-a3af-43d6-bfdd-341ad8462f81",
   "metadata": {},
   "source": [
    "### 9) What is the current stable version of Python as of September 2024?\n",
    "\n",
    "The current stable version of Python as of September 2024 is python released on September 6TH 2024. However, others stable versions like python\n",
    "3.11.10 and Python 3.10.15 are also available. Always use the latest version available, as it has the most recent features, bug fixees and security\n",
    "patches."
   ]
  },
  {
   "cell_type": "markdown",
   "id": "be2213db-ca4a-48d2-83d1-18bab3c132ef",
   "metadata": {},
   "source": [
    "### 10) What are the basic data types in Python? Provide examples for each.\n",
    "\n",
    "1. Integers: Whole numbers, positive or negative without decimals. \n",
    "eg x = 5 or y = -3\n",
    "2. Float: Numbers with decimals.\n",
    "-eg: x = 3.14 or y = -0.5\n",
    "3. String: sequences of charaters, enclosed in quotes (single or double).\n",
    "-eg: name = \"John\" or greeting = 'Hello World!\"\n",
    "4. Boolean: True or False values.\n",
    "-eg: Is admin = True or is logged-in = False\n",
    "5. List: ordered collections of items, enclosed in square brackets.\n",
    "-eg: Fruits = [\"apple\", \"banana\", \"cherry\"]\n",
    "6. Tuple: Ordered, immutable collections of items, enclosed in parentheses.\n",
    "-eg: colors = (\"red\", \"green\", \"blue\")\n",
    "7. set:unordered collections of unique items, enclosed in curly braces.\n",
    "-eg: unique_numbers = [1,2,3,4} (nopte:duplicate are removed)\n",
    "8. Dictionary: key-value pairs, enclosed in curly braces.\n",
    "-eg: person = {\"name: \"John\", \"age\": 30}."
   ]
  },
  {
   "cell_type": "code",
   "execution_count": null,
   "id": "c03654df-6019-4d5d-bc07-896af4d08a1a",
   "metadata": {},
   "outputs": [],
   "source": []
  }
 ],
 "metadata": {
  "kernelspec": {
   "display_name": "Python 3 (ipykernel)",
   "language": "python",
   "name": "python3"
  },
  "language_info": {
   "codemirror_mode": {
    "name": "ipython",
    "version": 3
   },
   "file_extension": ".py",
   "mimetype": "text/x-python",
   "name": "python",
   "nbconvert_exporter": "python",
   "pygments_lexer": "ipython3",
   "version": "3.12.4"
  }
 },
 "nbformat": 4,
 "nbformat_minor": 5
}
