{
 "cells": [
  {
   "cell_type": "markdown",
   "id": "d8bb2413-b072-4144-b342-699a825c98e8",
   "metadata": {},
   "source": [
    "### Steve Gerald"
   ]
  },
  {
   "cell_type": "markdown",
   "id": "9eb00720-6225-4f9c-8545-59434f9d8a03",
   "metadata": {},
   "source": [
    "### Assignment 5"
   ]
  },
  {
   "cell_type": "markdown",
   "id": "092f65ae-3ffd-4b9e-8121-e0c5f38163fe",
   "metadata": {},
   "source": [
    "### Q1. What is a while loop in Python?\n",
    "\n",
    "while condition:\n",
    "   # code to execute\n",
    "\n",
    "An assessment is made up of circumstances.\n",
    "The code is inside the loop is workink if the condition if true.\n",
    "If condition is reevaluation following the code'execution. \n",
    "Repeat step 2 through 3 untill the condition is no longer true.\n",
    "\n",
    "i = 0\n",
    "while 1 < 5:\n",
    "    print(i)\n",
    "\n",
    "i += 1\n",
    "\n",
    "output:\n",
    "\n",
    "0\n",
    "1\n",
    "2\n",
    "3\n",
    "4\n",
    "5\n",
    "\n",
    "two types of while loop:\n",
    "    simple while loop \n",
    "    infinite while loop\n",
    "    nested while loop\n",
    "\n",
    "    "
   ]
  },
  {
   "cell_type": "markdown",
   "id": "c79c094a-b59c-472f-8d40-b0dc9f3a6a4a",
   "metadata": {},
   "source": [
    "### Q2. How do you write a simple while loop in Python?\n",
    "\n",
    "1 += 4\n",
    "\n",
    "simple loop in python are used to set data in the movement of numbers, integers, float in python. simple loop is a set of data that joins the group\n",
    "to organize the numbers in the data to +,-,*,/. Simple loop are connected with python to form the styles and help the numbers to be in correct position \n",
    "for data set and values.\n",
    "\n",
    "simple loop gives infoermation to python about arithmetic progression.\n"
   ]
  },
  {
   "cell_type": "markdown",
   "id": "9035ebd7-7069-4c59-a91f-f7382ed102a2",
   "metadata": {},
   "source": [
    "### Q3. What happens if the condition in a while loop is never false?\n",
    "\n",
    "Infinite loop is used to automatically connect with the rules and regulation of the python in the data sets and values. Infinite loop freezes the data \n",
    "systems in  Python, variables into the data sets and values. infinite numbers are commonly used to make if the condition is false in the computer. \n",
    "Infinite loop gives us if the answer is True or false in python. Infinite loop accesses the number into integers in the data set. Infinite loop is used\n",
    "to perform the operation in the python. infinite loop is made of computer sets in python. Infinite loops is used to modify the if statements, conditions\n",
    "in the data.\n"
   ]
  },
  {
   "cell_type": "markdown",
   "id": "0837d8b2-dde2-4916-a952-b24487c137f4",
   "metadata": {},
   "source": [
    "### Q4. How can you exit a while loop prematurely?\n",
    "\n",
    "we use return to exit the loop in the data. if Loops continue till longer for the generation of the python in ther computer, it will cause error,\n",
    "disturbance, problem, viruses in the data sets in python. if the loop is in good condition we return the loop in the pleasant variable. The loop has to\n",
    "be executed in the python to store data in the Python for arithmetic, subtraction, multyplication, division. "
   ]
  },
  {
   "cell_type": "markdown",
   "id": "99cca293-9dd4-45dd-86f2-a1e76dbf4362",
   "metadata": {},
   "source": [
    "### Q5. Can you give an example of a while loop that counts from 1 to 5?\n",
    "\n",
    "1 >= 5 \n",
    "= False\n",
    "\n",
    "5 >= 1\n",
    "= True\n",
    "\n",
    "5 + 1\n",
    "= 6\n",
    "\n",
    "5 - 1\n",
    "= 4\n",
    "\n",
    "loop is the computer technique to count the numbers."
   ]
  },
  {
   "cell_type": "markdown",
   "id": "17962930-db3e-4c72-87a4-cd7a1a41f63b",
   "metadata": {},
   "source": [
    "### Q6. What is the role of the increment statement in a while loop?\n",
    "\n",
    "increment statement is used to check the formulas, information in the python. Increment statement is used to measure variables like 35 > 10. increment \n",
    "statement is used in python to do addition, multiplication, division, subtraction in a while loop. Increment statements plays an active role in python.\n",
    "Increment statemt is used to write the statements of data to increase the price. Increment statement is used to give statements about the finances in\n",
    "the Python company."
   ]
  },
  {
   "cell_type": "markdown",
   "id": "43c05222-6e86-4f61-add8-4e854dbf79ad",
   "metadata": {},
   "source": [
    "### Q7. Can a while loop be nested inside another while loop?\n",
    "\n",
    "Yes while loop can be nested inside loop because it is the systematic number that deducts the mistakes, errors, problems inside the loop to form the \n",
    "data. loop is used to put bracket of the variables, integers. It eradicates all the false application of the things in Python and makes the variable, \n",
    "integers correct. loop is used to acces the nested loop insides the brackets. Nested loop play an active role in performing the operation of the Python \n",
    "Variables. Nested Arguments can be used to solve the problem in the Python to rectify maths mistakes in the data. "
   ]
  },
  {
   "cell_type": "markdown",
   "id": "e5f10450-0138-4b18-8234-306f37c35312",
   "metadata": {},
   "source": [
    "### Q8. What is an infinite loop, and how can you create one?\n",
    "\n",
    "infinite loop is i can create by putting integers, variables, to form the data in the Python. Infinite loop can create addition, multiplication, \n",
    "subtraction, division, etc. Infinite loop can form numbers, decimals, float, etc. Infinite loop is used to create items in the computer. infinite are dynamic to form the square-numbers, cube-roots in the arithmetic, multiplication."
   ]
  },
  {
   "cell_type": "markdown",
   "id": "4c482d0b-3670-459e-bffc-ddb1ed3ab1b6",
   "metadata": {},
   "source": [
    "### Q9. How can you prevent an infinite loop?\n",
    "Infinite loop can avoid any errors, problems, virus. In Python Infinite loop if i press that debugging it will create many problems, virus, errors in \n",
    "the Python. In Infinite loop in python every, problems, error, virus can create difficulties for the Python Experts to solve this things in the computer\n",
    "Infinite Loop can eliminate the the wrong numbers from the Python list which has been set without knowingly in the computer. "
   ]
  },
  {
   "cell_type": "markdown",
   "id": "7d85e94f-b58f-43e4-879f-e1df9b0db2e2",
   "metadata": {},
   "source": [
    "### Q10. What is the difference between a while loop and a for loop in Python?\n",
    "\n",
    "While loop is used to measure the variables into data set. For loop does not measure the variables into the data set. While loop can create variable in\n",
    "to an object. For loop does not create variables but can create an integers, float, numericals. While loop is used to consider an object to calculate \n",
    "the variables. For loop is not utilized to consider an object and it does not calculate the variables. In while loop it can divide the numbers into data\n",
    "sets.In for loop it can add, subtract, multiply the numbers into the data sets and variables.\n",
    "\n",
    "    In while loop,\n",
    "                     a + b, a - b, a * b\n",
    "    In For loop,\n",
    "                        a / b\n",
    "    "
   ]
  }
 ],
 "metadata": {
  "kernelspec": {
   "display_name": "Python 3 (ipykernel)",
   "language": "python",
   "name": "python3"
  },
  "language_info": {
   "codemirror_mode": {
    "name": "ipython",
    "version": 3
   },
   "file_extension": ".py",
   "mimetype": "text/x-python",
   "name": "python",
   "nbconvert_exporter": "python",
   "pygments_lexer": "ipython3",
   "version": "3.12.4"
  }
 },
 "nbformat": 4,
 "nbformat_minor": 5
}
