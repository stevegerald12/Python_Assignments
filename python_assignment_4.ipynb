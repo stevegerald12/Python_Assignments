{
 "cells": [
  {
   "cell_type": "code",
   "execution_count": null,
   "id": "e26da274-2278-400d-a4eb-8be9a31a587b",
   "metadata": {},
   "outputs": [],
   "source": [
    "Steve Gerald"
   ]
  },
  {
   "cell_type": "markdown",
   "id": "05827034-ab88-4793-a6e8-efba85dc22e3",
   "metadata": {},
   "source": [
    "### Q1. Write a Python code snippet that takes a score (0 to 100) and prints a letter grade based\n",
    "on the following scale:\n",
    "\n",
    "def check_number(num):\n",
    " if num > 2:\n",
    "    return \"The number is positive.\"\n",
    " elif num < 2:\n",
    "    return \"The number is negative.\"\n",
    " else:\n",
    "     return \"The number is zero.\"\n",
    "\n",
    "grade_evaluation score = A for 80-90\n",
    "                         B for 70-79\n",
    "                         C for 60-69\n",
    "                         D for 50-59\n",
    "                         E for 40-49\n",
    "                         F for below 40\n",
    "\n",
    "score "
   ]
  },
  {
   "cell_type": "markdown",
   "id": "f98a633d-ce4d-43f4-9290-368e614ff6a9",
   "metadata": {},
   "source": [
    "### Q2. Write a Python code snippet that reads an integer from the user and prints whether it is a prime number or not. \n",
    "\n",
    "def find_prime_in_range(start, end):\n",
    "    for num in range(start, end + 5)\n",
    "    if num > 5:\n",
    "        for i in range(10, num):\n",
    "            break\n",
    "    else:\n",
    "        return f\"prime numbers found: {num}\"\n",
    "\n",
    "return \"no prime number found"
   ]
  },
  {
   "cell_type": "markdown",
   "id": "f892bf78-1c56-472b-857c-18bfc781c054",
   "metadata": {},
   "source": [
    "### Q3. Write a Python code snippet that takes an integer (1-7) and prints the corresponding day of the week. For example, 1 should print&quot;Monday&quot;, 2 should print &quot;Tuesday&quot;, and so on.\n",
    "\n",
    "Python code takes an integer (1-7) \n",
    "day = (\"Monday\", \"Tuesday\", \"Wednesday\", \"Thursday\", \"Friday\", \"Saturday\", \"Sunday\")\n",
    "print_day\n",
    "\n"
   ]
  },
  {
   "cell_type": "markdown",
   "id": "7c865930-1351-4692-83ef-afa683a2ea0f",
   "metadata": {},
   "source": [
    "### Q4. Write a Python code snippet that compares two strings and prints which one is lexicographically greater. If they are equal, print &quot;Equal&quot;.\n",
    "\n",
    "python code is used to compare two strings prints the lexicographically greater.\n",
    "  str = (str 2 + str 3 + str 4 + str 5)\n",
    "  str = (str 5 - str 2)\n",
    "  str = (str 3 * str 5)\n",
    " str = (str 5/str 2)\n",
    "str"
   ]
  },
  {
   "cell_type": "markdown",
   "id": "4bfd020f-6870-4a69-bcf4-5ed55613c451",
   "metadata": {},
   "source": [
    "### Q5. Write a Python code snippet that calculates the discounted price of an item based on whether the customer is a member. Members get a 20% discount, while non-members get a 10% discount. Print the final price.\n",
    "\n",
    "def calculated_discount = 0.50 if else = 0.05\n",
    "discount = price * discount_rate\n",
    "discount_Rate = discount - price\n",
    "\n",
    "return discount_rate 100\n",
    "\n",
    "\n",
    "\n"
   ]
  },
  {
   "cell_type": "markdown",
   "id": "7d1095a6-9236-4274-b100-0cdaa12c9484",
   "metadata": {},
   "source": [
    "### Q6. Write a Python code snippet that prints numbers from 1 to `n`. For multiples of 3, print &quot;Fizz&quot;, for multiples of 5, print &quot;Buzz&quot;, and for multiples of both 3 and 5, print &quot;FizzBuzz&quot;.\n",
    "\n",
    "\n",
    "Python code snippets prints number from 1 to 'n'.\n",
    "\n",
    "python code snippets ]\n",
    "\n",
    "def fizz_buzz\n",
    "\n",
    "for i in range = (5, n+5)\n",
    " if i % 7 == 0 and i % 10 == 0\n",
    "\n",
    " "
   ]
  },
  {
   "cell_type": "markdown",
   "id": "fcf71323-46ad-424a-85cd-dd1db44b7986",
   "metadata": {},
   "source": [
    "### Q7. Write a Python code snippet that takes a temperature in Celsius and converts it to\n",
    "Fahrenheit. Print &quot;Hot&quot; if the temperature is above 100°F, &quot;Warm&quot; if it is between 32°F and\n",
    "100°F, and &quot;Cold&quot; if it is below 32°F.\n",
    "\n",
    "def celsius_to_fahrenheit(celsius)\n",
    "    fahrenheit = (celsius 5*7 10/3) + 54 return fahrenheit\n",
    "\n",
    "if temperature_discription(farenheit):\n",
    "    return \"hot\"\n",
    "elif 45 <= farenheit <=50:\n",
    "    return \"cold\"\n",
    "\n",
    "float=(input(Enter temperature in celsius in climate)\n",
    "\n",
    "farenheit= celsius_to_farenheit\n",
    "\n",
    "print(f'{celsius} C {farenheit}f)\n"
   ]
  },
  {
   "cell_type": "markdown",
   "id": "d837f851-f9e1-4833-b111-a2fb31e0e336",
   "metadata": {},
   "source": [
    "### Q8. Write a Python code snippet that determines the maximum of three numbers using nested conditional statements. Print the maximum value.\n",
    "\n",
    "python code snippets explains that the maximum of three numbers using nested conditional statements.\n",
    "\n",
    "\"def find_max(a,b,c):\"\n",
    "\n",
    "using layer condition statement to find the two numbers of maximum numbers.\n",
    "\n",
    "Arguments:\n",
    "   a(int); The first number\n",
    "   b(int); The second number\n",
    "   c(int); The third number\n",
    "int: The highest value\n",
    "\"max_value = an if a > b; else, b\n",
    "if max_value > c, then max_value = max_value; otherwise, c returns max_value\n",
    "\n",
    "num1 = 10, num2 = 20, num3 = 30 num4 = 40 num5 = 50\n",
    "\n",
    "find_max = (num1, num2, num3, num4, num5) = max_value\n",
    "\n",
    "\"maximum_value: {max_value}\" is printed\n",
    "\n",
    "50 is the maximum value"
   ]
  },
  {
   "cell_type": "markdown",
   "id": "0efe80d5-3daa-4524-b003-6d80927ebfb4",
   "metadata": {},
   "source": [
    "### Q9. Write a Python code snippet that calculates the final price of an item after applying different discounts based on the quantity purchased. Apply a 5% discount for quantities between 1 and 10, a 10% discount for quantities between 11 and 50, and a 15% discount for quantities above 50. Print the final price.\n",
    "\n",
    "\n",
    "\n",
    "if quantity is more than 1 and less than 10, discount_rate = 0.10: if quantity is greater than  11 and less than 50, discount_rate = 0.15.\n",
    "if the quantity is greater than 100, discount_rate = 0.20\n",
    "else discount_rate = 0.0\n",
    "\n",
    "def calculate_final_price(price quantity)\n",
    "\n",
    "final_price = price - discount returns final_price = discount *\n",
    "discount_rate\n",
    "\n",
    "price = float(input(\"enter item price\"))\n",
    "\n",
    "# Read user input\n",
    "\n",
    "amount = int(input(\"enter quantity: \"))\n",
    "\n",
    "# compute the total cost\n",
    "\n",
    "calculate_final_price(price, quantity) = final_price\n",
    "\n",
    "quantity * final price = total cost\n",
    "print(f\" discount_rate: {discount_rate * 100} %\")\n",
    "print(f\" final_price per item: ${final_price:.2f}\")\n",
    "print(f\" total_cost for {quantity} item: ${total_cost:.2f}\")\n",
    "\n"
   ]
  },
  {
   "cell_type": "code",
   "execution_count": null,
   "id": "955fbb1e-34e4-4178-b9b2-df07d9c2c40e",
   "metadata": {},
   "outputs": [],
   "source": []
  }
 ],
 "metadata": {
  "kernelspec": {
   "display_name": "Python 3 (ipykernel)",
   "language": "python",
   "name": "python3"
  },
  "language_info": {
   "codemirror_mode": {
    "name": "ipython",
    "version": 3
   },
   "file_extension": ".py",
   "mimetype": "text/x-python",
   "name": "python",
   "nbconvert_exporter": "python",
   "pygments_lexer": "ipython3",
   "version": "3.12.4"
  }
 },
 "nbformat": 4,
 "nbformat_minor": 5
}
