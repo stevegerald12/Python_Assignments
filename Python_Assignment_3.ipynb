{
 "cells": [
  {
   "cell_type": "markdown",
   "id": "5ce83a28-12eb-4059-81f5-d429b5609775",
   "metadata": {},
   "source": [
    "### Steve Gerald "
   ]
  },
  {
   "cell_type": "code",
   "execution_count": null,
   "id": "04ed694a-0c96-435b-9876-0c8c3f94fcb5",
   "metadata": {},
   "outputs": [],
   "source": [
    "                                                                   Assignment 3"
   ]
  },
  {
   "cell_type": "markdown",
   "id": "0e550a12-b9e0-4fbf-abee-12135f671ab9",
   "metadata": {},
   "source": [
    "### 1) What are Data Structures in Python?\n",
    "\n",
    "In python data structures are specialized formats for organizing an dstoring data in a way that allows for efficient access, modification, and \n",
    "manipulation. They provide a way to store and managae large amounts of data ion a structured and meaning way. \n",
    "\n",
    "Data structures in Python\n",
    "1. Lists: \n",
    "Ordered collections of items that can be any data type, including strings, integers, float, and other lists.\n",
    "2. Tuples:\n",
    "Ordered, immutable collections of items that can be of any data type.\n",
    "3. Dictionaries:\n",
    "Unordered collections of key-value pairs, where keys are unique strings and values can be of any data type.\n",
    "4. set:\n",
    "Unordered collections of unique items, often used for fast membership testing and set operations.\n",
    "5. Arrays:\n",
    "Ordered collections of items of the same data type, typically  used for numerical computation.\n",
    "6. Linked Lists: \n",
    "Dynamics collectiuons of items, where each item points to the next item.\n",
    "7. Stacks:\n",
    "Last-in-first out data structures, where items are added to the end and removed from the front.\n",
    "8. Queues: \n",
    "First-in-first-out data structures, where items are added to the end and removed from the front.\n",
    "9. Trees:\n",
    "Hierarchical data structures, where each item has a value and zero or more child items.\n",
    "10. Graph:\n",
    "Non-linear data structures, where items are connected by edges."
   ]
  },
  {
   "cell_type": "markdown",
   "id": "e24b43ec-1a7f-456f-aa08-bc23b8bcd326",
   "metadata": {},
   "source": [
    "### 2) Define a List in Python and provide an example of how to use it.\n",
    "    Items have a defined order. \n",
    "Items cannot be added, removed or modified after creation. Items cannot be added, removed, or modified after creation. Tuples can contain duplicate\n",
    "items. Items can be accessed using their index (position).\n",
    "\n",
    "my_list = [1,2,3,4,5]\n",
    "Print(my_list[01] # Output: 1 (accessing the first item)\n",
    "my_list.append(6) # Adding a new item to the end\n",
    "Print(my_list) # Output {1,2,3,4,5,6]\n",
    "\n",
    "      common list operations: \n",
    "* Append(): \n",
    "Add an item to the end\n",
    "*Insert(): Add an item at at specific position. \n",
    "*Remove(): Remove the first occurance of an item.\n",
    "*Sort(): Sort the list in ascending order.\n",
    "*Reverse(): Reverse the list order."
   ]
  },
  {
   "cell_type": "markdown",
   "id": "f97309b4-e62d-414f-b8df-6640d14cbcb0",
   "metadata": {},
   "source": [
    "### 3) What is a Tuple in Python and how is it different from a List?\n",
    "Provide an example.\n",
    "In python, a tuple is a data structure that stores a collection of items in a specific order, similar to the list. Items have a defined order. \n",
    "Items cannot be added, removed or modified after creation. Items cannot be added, removed, or modified after creation. Tuples can contain duplicate\n",
    "items. Items can be accessed using their index (position). the key difference between Tuples and Lists is thatr Tuples are immutable, meaning their\n",
    "contents cannot be changed after creation.\n",
    "\n",
    "eg:\n",
    "\n",
    "my_Tuple = (1,2,3,4,5)\n",
    "\n",
    "my_tuple[2] = 10 # Output: TypeError: 'Tuble' object does not support items assignment.\n",
    "\n",
    "Tuples are useful when you need to store a collection of items that shouldn't be changed, such as:\n",
    "* Coordinates (x,y,z)\n",
    "* Dates (year, month, day)\n",
    "* IP addresses (octet1, octet2, octet3, octet4)\n",
    "\n",
    "common tuple operations: \n",
    "*Index(): Find the index of an item.\n",
    "*Count(): count the occurences of an item."
   ]
  },
  {
   "cell_type": "markdown",
   "id": "1c86e7c3-acf9-4194-b676-7af1073081da",
   "metadata": {},
   "source": [
    "### 4) Explain what a Set is in Python and provide an example of its\n",
    "usage.\n",
    "\n",
    "Items don't have a defined order. items can't be accessing by index. Items can be added or removed. \n",
    "\n",
    "sets are useful for storing unique items. performing set operations(union, intersection, difference). Fast membership testing (checking if an item is \n",
    "in the set).\n",
    "\n",
    "my_set = {1,2,3,4,5} \n",
    "my_set.add(6)\n",
    "Print(my_set) #output: {1,2,3,4,5,6}\n",
    "\n",
    "my_set.remove(4)\n",
    "print(my_set) #output: {1,2,3,5,6}\n",
    "\n",
    "set1 = {1,2,3}\n",
    "set2 = {3,4,5}\n",
    "print(set1.intersection(set2)\n",
    "\n",
    "print(set1.difference(set2)\n"
   ]
  },
  {
   "cell_type": "markdown",
   "id": "c018d5f4-774d-45ae-938a-948b28c0fc42",
   "metadata": {},
   "source": [
    "### 5) Describe a Dictionary in Python and give an example of its\n",
    "usage.\n",
    "\n",
    "Person = {\"name\": \"john\", \"age\": 30, \"city\": \"New York\"}.\\\n",
    "\n",
    "*key: \"name\", value: \"john\"\n",
    "*key: \"age\", Value: 30\n",
    "*key: \"City\", value: \"New York\"."
   ]
  },
  {
   "cell_type": "markdown",
   "id": "1d3b7273-debe-4fb4-b3dc-c9004db0f022",
   "metadata": {},
   "source": [
    "### 6) Compare and contrast Lists and Tuples. When would you choose\n",
    "one over the other?\n",
    "\n",
    "- Both Lists and Tuples are data structures that store multiple values in a single variable.\n",
    "- Both are ordered, meaning the order of elements matters.\n",
    "- Both support indexing, slicing, and iteration.\n",
    "\n",
    "Tuples are immutable, meaning their contents cannot be modified after creation. Lists are mutable, allowing modifications. Tuples use parentheses () \n",
    "and Lists use square brackets []. Tuples use less memory than Lists, especially for large datasets.- Tuples are faster than Lists for certain \n",
    "operations, like iterating and indexing.\n",
    "- You need an immutable collection of values.\n",
    "- You prioritize memory efficiency and performance.\n",
    "- You're working with data that shouldn't be changed, like coordinates or dates."
   ]
  },
  {
   "cell_type": "markdown",
   "id": "9bdd5236-9b01-4e34-8479-882392f90a09",
   "metadata": {},
   "source": [
    "### 7) How does a Set differ from a List and a Dictionary? Provide\n",
    "examples to illustrate these differences.\n",
    "\n",
    "my_list = [1, 2, 2, 3, 4]\n",
    "my_set = {1, 2, 2, 3, 4}\n",
    "\n",
    "print(my_list)  # Output: [1, 2, 2, 3, 4]\n",
    "print(my_set)  # Output: {1, 2, 3, 4}\n",
    "\n",
    "my_dict = {\"a\": 1, \"b\": 2, \"c\": 3}\n",
    "my_set = {1, 2, 3}\n",
    "\n",
    "print(my_dict[\"a\"])  # Output: 1\n",
    "print(1 in my_set)  # Output: True\n"
   ]
  },
  {
   "cell_type": "code",
   "execution_count": null,
   "id": "3f426d9e-a738-47f1-8345-ea47614ed92f",
   "metadata": {},
   "outputs": [],
   "source": []
  }
 ],
 "metadata": {
  "kernelspec": {
   "display_name": "Python 3 (ipykernel)",
   "language": "python",
   "name": "python3"
  },
  "language_info": {
   "codemirror_mode": {
    "name": "ipython",
    "version": 3
   },
   "file_extension": ".py",
   "mimetype": "text/x-python",
   "name": "python",
   "nbconvert_exporter": "python",
   "pygments_lexer": "ipython3",
   "version": "3.12.4"
  }
 },
 "nbformat": 4,
 "nbformat_minor": 5
}
