{
 "cells": [
  {
   "cell_type": "code",
   "execution_count": null,
   "id": "b87ebb1a-725e-4611-b98d-10f7d0089007",
   "metadata": {},
   "outputs": [],
   "source": []
  },
  {
   "cell_type": "markdown",
   "id": "5155dc98-3e4b-494d-abee-09e7421a973f",
   "metadata": {},
   "source": [
    "### Q1. What are Data Structures in Python?\n",
    "\n",
    "\n",
    "Python information structures are tools for effectively organizing and storing\n",
    "material so that it may be easily modified, retrieved and altered. They offer a scrip and mathematics. \n",
    "Data structures are used to calculate the arithmetic data in the computer and python. Data structures are used to create variable in the form to set things in a manner."
   ]
  },
  {
   "cell_type": "markdown",
   "id": "ff3089dd-b602-41dc-b135-6e6b99525d20",
   "metadata": {},
   "source": [
    "### Q2. Define a List in Python and provide an example of how to use it.\n",
    "\n",
    "List of python provides you with things in the data are fruits.\n",
    "\n",
    "\n",
    "print(Input(Enter the list)\n",
    "      def_list_fruits.\n",
    "\n",
    "      print = (\"Banana\", \"Papaya\", \"Pemogranate\")\n",
    "I am gaining the list of fruits items in variable data lists.\n",
    "\n",
    "To edit the item i need to change the fruits of the items in the form of data\n",
    "\n",
    "To incorporate the item of fruits.print(fruits) remove(apple).\n",
    "\n",
    "To eradicate the item of the fruits.print(fruits) remove(cherry).\n",
    "\n",
    "List if used to access enteries, using list exact subsets. Using the list and elements. append the elements. by using the list i have to eliminate\n",
    "the elements. By using the list of fruits in the variable data in pyhton. insert elemts at the types of the variables data in the form."
   ]
  },
  {
   "cell_type": "markdown",
   "id": "f1a359fb-255d-4dc1-b6f6-28e0e9dd5641",
   "metadata": {},
   "source": [
    "### Q3. What is a Tuple in Python and how is it different from a List? Provide an example.\n",
    "\n",
    "\n",
    "Tuple in Python is the immutable substance in the variable in the list provided in the Python inside the tuple. variables, integer, float, data set are\n",
    "connected and joined with the tuples.\n",
    "\n",
    "    Every tuples are composed with the list of fruits in the data types. tuple component is in legal order of the tuple data. Tuple index provides you \n",
    "   with the access of data.\n",
    "\n",
    "Tuple list can be changed after the formation, while tuples cannot change the data and set the data. Tuples are quicker and less memory in modifying\n",
    "the data. tuples are memory in solving numbers, integers, float, data types, variables.\n",
    "we use red blue yellow to create the tuple data in the sets. Tuples are kept in the data safely."
   ]
  },
  {
   "cell_type": "markdown",
   "id": "d3ea61e3-7351-4abb-9883-273d3c119a3f",
   "metadata": {},
   "source": [
    "### Q4. Explain what a Set is in Python and provide an example of its usage.\n",
    "\n",
    "I made the set of data in Python about fruits in the data sucha s apple mango banana grapes\n",
    "\n",
    "I Add elements in the set of python for mango, cherry, banana in the data\n",
    "I put - sign for mangoes, apple, Strawberry in the set in the python\n",
    "I multiply the sign of mangoes * apple.\n",
    "I divide the apple/ mango.\n",
    "\n",
    "Python utilizes the set of fruits and vegetables in the given usage of the data set in Python.\n"
   ]
  },
  {
   "cell_type": "markdown",
   "id": "8ba6c05b-b132-49e1-a61b-71151a95b804",
   "metadata": {},
   "source": [
    "### Q5. Describe a Dictionary in Python and give an example of its usage.\n",
    "\n",
    "\n",
    "In Python dictionary is uded to find the meaning of the words in the given data types and data set. Dictionaries are used to create variables 1 and 5\n",
    "in the data set in Dictionary.\n",
    "\n",
    "We use key values and pairs to type the data in the dicitonary. Keys are used to control the dictionaries from flowing into the Python data set and meaningfull variables. Dictionaries are used to access the keys, numbers, alphabets."
   ]
  },
  {
   "cell_type": "markdown",
   "id": "53adcd01-4a70-4eac-a353-ab57095f12ef",
   "metadata": {},
   "source": [
    "### Q6. Compare and contrast Lists and Tuples. When would you choose one over the other?\n",
    "\n",
    "Contrast list and tuple list are connected with the Python.\n",
    "\n",
    "It mutes the data, variable, integers, float in the contract list and tuples. it access the data variables with information in the contrast list and tuples in the python. It allows the item to access assignment, projects and deletation of the variables in the data contrast list and tuples. Contrast list and tuples are used to collect the data in the updated form. In contrast list ansd tuples elements of fruits and vegetables should be eliminated.\n",
    "Contrast list and tuples are the adaptability of the data contrast list and tuples. Python given performance and success to contrast list and tuples in the data. Contrast list and tuples are information integrity that it should be garenteed in the Python."
   ]
  },
  {
   "cell_type": "markdown",
   "id": "ea55bb06-af43-43be-9b66-e6e728c31f7d",
   "metadata": {},
   "source": [
    "### Q7. How does a Set differ from a List and a Dictionary? Provide examples to illustrate these differences.\n",
    "\n",
    "Unordered collection of single pieces of data in list and dictionary. Duplicates are not leading to Python list and dictionaries in data. Allowing for\n",
    "slicing and indexing the numbers of the data. While values have to be solved using arithmetic ways and techniques. While dictionaries and list are \n",
    "causing duplicate for data loss in the python. List and dictionaries lack orders, details in variables. List and Dictionaries are used to allow the \n",
    "function to operate in computer."
   ]
  },
  {
   "cell_type": "code",
   "execution_count": null,
   "id": "110fa1fa-2866-4349-8e99-855fafbe5949",
   "metadata": {},
   "outputs": [],
   "source": []
  }
 ],
 "metadata": {
  "kernelspec": {
   "display_name": "Python 3 (ipykernel)",
   "language": "python",
   "name": "python3"
  },
  "language_info": {
   "codemirror_mode": {
    "name": "ipython",
    "version": 3
   },
   "file_extension": ".py",
   "mimetype": "text/x-python",
   "name": "python",
   "nbconvert_exporter": "python",
   "pygments_lexer": "ipython3",
   "version": "3.12.4"
  }
 },
 "nbformat": 4,
 "nbformat_minor": 5
}
