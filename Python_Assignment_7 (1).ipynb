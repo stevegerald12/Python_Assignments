{
 "cells": [
  {
   "cell_type": "markdown",
   "id": "84422fd8-7cb9-479e-8f21-2baa40caf5a8",
   "metadata": {},
   "source": [
    "### Steve Gerald\n",
    "\n"
   ]
  },
  {
   "cell_type": "markdown",
   "id": "e07e3471-97b3-41f4-8e69-dd3aaca32581",
   "metadata": {},
   "source": [
    "   ### Python assignment 7"
   ]
  },
  {
   "cell_type": "markdown",
   "id": "32d10fa0-c911-4611-95bd-c96a4238a921",
   "metadata": {},
   "source": [
    "### Q1: What is a class in Python? Provide a simple example.\n",
    "\n",
    "  In the Python class. Lion function is used as the def_function in the Name, Age, Sound are used to print the data in the Python class.\n",
    "\n",
    "class ClassName:\n",
    "    pass\n",
    "\n",
    "Myobj = ClassName\n",
    "myobj\n",
    "\n",
    "__main__.className\n",
    "myobj.lion = \"Wild\"\n",
    "myobj.lion\n",
    "\n",
    "'Wild\n",
    "\n",
    "It used print the objects that are related to us in the Python \n"
   ]
  },
  {
   "cell_type": "markdown",
   "id": "7f271eaa-ba06-4901-9d79-89f2320f881c",
   "metadata": {},
   "source": [
    "### Q2: How do you create an object of a class in Python? Illustrate with an example.\n",
    "\n",
    "I want to create an object of a class in python by constructing the data projects, business projects in the python data. object is used to make \n",
    "different things in the python for innovation, datasets, errors, and all new things that stored in an object. object is used to access the variables \n",
    "that are managed in Python class. Objects plays an crucial role in the Python class. objects are used to secure the data in the Python for the file, \n",
    "copies of document in the python computer. Objects are used to manipulate the data in the Python sectors to store data in the Computer to print the\n",
    "variances in the data set. Python is used to restructure the data set, information, variables in the databases."
   ]
  },
  {
   "cell_type": "markdown",
   "id": "5a630ff8-ac36-4784-9a13-f95e26b08722",
   "metadata": {},
   "source": [
    "### Q3: What is the `__init__` method in a class? Explain with an example.\n",
    "\n",
    "the '__init__' method is used to access and store the data of the car names in the variable.The  ___init___ method is get details of the car names how \n",
    "much it costs in the Python computer.\n",
    "\n",
    "class Car:\n",
    "     def __init__(self,make, model,year,mileage=0):\n",
    "         self.make = make\n",
    "         self.model= model\n",
    "         self.year = year\n",
    "         self.mileage = mileage\n",
    "\n",
    "    def start_engine(self):\n",
    "        \"\"\"\n",
    "        This is a function of start engine\n",
    "        \"\"\"\n",
    "        return f\" The engine of {self.year}, {self.model}, {self.year}\"\n",
    "    def drive(self, distance):\n",
    "        \"\"\"\n",
    "        simulatesw driving the car for a certain distance and updates the mileage.\n",
    "        \"\"\"\n",
    "        self.mileage = self.mileage + distance\n",
    "        return f\"You drove {distance} miles. Total mileage is now {self.mileage} miles.\"\n",
    "\n",
    "     def display_info(self):\n",
    "         \"\"\"\n",
    "         Display the car information \n",
    "         \"\"\"\n",
    "         return f\" {self.year}, {self.make}, {self.model} with {self.mileage} miles.\""
   ]
  },
  {
   "cell_type": "markdown",
   "id": "5d18c7b3-b683-4198-a2a5-9780d43b4be7",
   "metadata": {},
   "source": [
    "### Q4: How can you create a class variable in Python? Provide an example.\n",
    "\n",
    "class employee:\n",
    "        def_init_(employee_id, employee_name,, employee_address)\n",
    "\n",
    "employee class has \"abc company as a industrialist name. # Class Variable def_init_(self, name, age):\n",
    "self.name = Employe name # The senario variance self.age = age\n",
    "\n",
    "print(f\"Age: {self.age}\") \n",
    "print(f\"Name: {self.name}\") \n",
    "print(f\"Company: {Employee_company name}\")\n",
    "\n",
    "variables are used to print the job workers id, name, address, password in the python computer datas. class variables is used in company to store the \n",
    "office employees in the Python to form the data in the variable."
   ]
  },
  {
   "cell_type": "markdown",
   "id": "1edc11bc-7b22-4e63-9902-412a2e4977cd",
   "metadata": {},
   "source": [
    "### Q5: What is the purpose of the `self` parameter in class methods?\n",
    "\n",
    "self parameters is used to access the bank account of the employees in the python to access any kind of data in the computer devices. The banks are used\n",
    "to calculate the data sets and chats in the python for availability and storage facility in the python. self parameters are widely used to represent \n",
    "data in the form of python to store data into the variances in class methods. self parameters is to formate the variables of a given integers in the \n",
    "form of numbers to store numbers in the python. self parameters does not flow the information, numbers in the python to create viruses, crises, problems\n",
    "in the Python. self parameters accesses things that are known to the python and computer. class methods are used for self parameters to get the\n",
    "information of the Python formula,index,etc in the computer."
   ]
  },
  {
   "cell_type": "markdown",
   "id": "7a0fabb9-0e4e-4927-a7e6-0101add9dc47",
   "metadata": {},
   "source": [
    "### Q6: How do you create a class method in Python? Provide an example.\n",
    "\n",
    "class Vehicle:\n",
    "      class_variable = total_vehicles = 0.\n",
    "\n",
    "The function __init__(self,make,model) is as described below:\n",
    "self.make = make\n",
    "self.model = model\n",
    "\n",
    "I can modify the variable using the vehicles.  total_vehicle += 1\n",
    "\n",
    "return cls.total_vehicle = 0 @classmethod function\n",
    "reset_vehicle_count(s/l):\"\"\" Classmethod to reset total_cars.\"\"\"\n",
    "\n",
    "car = vehicle(\"toyota\", 'Corolla\") examples should be created.\n",
    "\n",
    "              transport = truck (\"ford\", \"f-150\")\n",
    "\n",
    "print(transport.count_transport()), an access class function.\n",
    "\n",
    "we can print the car in python to access the data of the vehicles ny counting how many cars, vehicles are there in the python data.\n",
    "\n",
    "I can use the class vehicle to count the data and print as a file to access the detail of the data.\n",
    "\n",
    "class methods are used to solve the erros, problems, crises in the python data."
   ]
  },
  {
   "cell_type": "code",
   "execution_count": null,
   "id": "48ed8cd3-636a-4720-ba36-e62a23abe294",
   "metadata": {},
   "outputs": [],
   "source": []
  }
 ],
 "metadata": {
  "kernelspec": {
   "display_name": "Python 3 (ipykernel)",
   "language": "python",
   "name": "python3"
  },
  "language_info": {
   "codemirror_mode": {
    "name": "ipython",
    "version": 3
   },
   "file_extension": ".py",
   "mimetype": "text/x-python",
   "name": "python",
   "nbconvert_exporter": "python",
   "pygments_lexer": "ipython3",
   "version": "3.12.4"
  }
 },
 "nbformat": 4,
 "nbformat_minor": 5
}
